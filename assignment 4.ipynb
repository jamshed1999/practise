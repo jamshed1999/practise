{
 "cells": [
  {
   "cell_type": "code",
   "execution_count": 2,
   "metadata": {},
   "outputs": [
    {
     "name": "stdout",
     "output_type": "stream",
     "text": [
      "{'FIRST_NAME': 'JAMSHAID', 'LAST_NAME': 'FAROOQUI', 'AGE': 19, 'CITY': 'KARACHI'}\n",
      "{'FIRST_NAME': 'JAMSHAID', 'LAST_NAME': 'FAROOQUI', 'AGE': 19, 'CITY': 'KARACHI', 'QUALIFICATION': 'INTER'}\n",
      "{'FIRST_NAME': 'JAMSHAID', 'LAST_NAME': 'FAROOQUI', 'AGE': 19, 'CITY': 'KARACHI', 'QUALIFICATION': 'UNDERGRADUATE'}\n",
      "{'FIRST_NAME': 'JAMSHAID', 'LAST_NAME': 'FAROOQUI', 'AGE': 19, 'CITY': 'KARACHI'}\n"
     ]
    }
   ],
   "source": [
    "person = {\n",
    "     \"FIRST_NAME\" : \"JAMSHAID\",\n",
    "     \"LAST_NAME\" : \"FAROOQUI\",\n",
    "     \"AGE\" : 19,\n",
    "     \"CITY\" : \"KARACHI\"\n",
    "          }\n",
    "print(person)\n",
    "person[\"QUALIFICATION\"] = \"INTER\"\n",
    "print(person)\n",
    "person[\"QUALIFICATION\"] = \"UNDERGRADUATE\"\n",
    "print(person)\n",
    "del person[\"QUALIFICATION\"]\n",
    "print(person)"
   ]
  },
  {
   "cell_type": "code",
   "execution_count": 3,
   "metadata": {},
   "outputs": [
    {
     "name": "stdout",
     "output_type": "stream",
     "text": [
      "{'COUNTRY': 'PAKISATN', 'POPULATION': 15741000, 'FACT': 'IT IS ALSO KNOWN AS CITY OF LIGHTS.'}\n",
      "{'COUNTRY': 'INDIA', 'POPULATION': 20185064, 'FACT': 'IT IS THE WEALTHIEST CITY IN INDIA.'}\n",
      "{'COUNTRY': 'TURKEY', 'POPULATION': 14968000, 'FACT': 'IT IS THE ONLY CITY THAT STRADDLES TWO CONTINENTS, ASIA AND EUROPE.'}\n"
     ]
    }
   ],
   "source": [
    "cities = {\n",
    "    \"KARACHI\" : {\n",
    "                    \"COUNTRY\" : \"PAKISATN\",\n",
    "                    \"POPULATION\" : 15741000,\n",
    "                    \"FACT\" : \"IT IS ALSO KNOWN AS CITY OF LIGHTS.\"\n",
    "                },\n",
    "    \"MUMBAI\" : {\n",
    "                    \"COUNTRY\" : \"INDIA\",\n",
    "                    \"POPULATION\" :  20185064,\n",
    "                    \"FACT\" : \"IT IS THE WEALTHIEST CITY IN INDIA.\"\n",
    "                },\n",
    "    \"ISTANBUL\" : {\n",
    "                    \"COUNTRY\" : \"TURKEY\",\n",
    "                    \"POPULATION\" : 14968000,\n",
    "                    \"FACT\" : \"IT IS THE ONLY CITY THAT STRADDLES TWO CONTINENTS, ASIA AND EUROPE.\"\n",
    "                 }\n",
    "        }\n",
    "print(cities[\"KARACHI\"])\n",
    "print(cities[\"MUMBAI\"])\n",
    "print(cities[\"ISTANBUL\"])"
   ]
  },
  {
   "cell_type": "code",
   "execution_count": 4,
   "metadata": {},
   "outputs": [
    {
     "name": "stdout",
     "output_type": "stream",
     "text": [
      "ENTER YOUR AGE 18\n",
      "THE PRICE OF TICKET IS 15$\n"
     ]
    }
   ],
   "source": [
    "age = input(\"ENTER YOUR AGE \")\n",
    "age1 = int(age)\n",
    "for i in age :\n",
    "    if age1< 3 :\n",
    "        print(\"THE TICKET IS FREE FOR YOU\")\n",
    "    elif age1>=3 and age1<=12 :\n",
    "        print(\"THE PRICE OF TICKET IS 10$\")\n",
    "        break\n",
    "    elif age1> 12 :\n",
    "        print(\"THE PRICE OF TICKET IS 15$\")\n",
    "        break"
   ]
  },
  {
   "cell_type": "code",
   "execution_count": 5,
   "metadata": {},
   "outputs": [
    {
     "name": "stdout",
     "output_type": "stream",
     "text": [
      "ONE OF MY FAVOURITE BOOK IS ALICE IN WONDERLAND.\n"
     ]
    }
   ],
   "source": [
    "def favourite_book(title):\n",
    "    print(\"ONE OF MY FAVOURITE BOOK IS \" +title)\n",
    "    \n",
    "favourite_book(\"ALICE IN WONDERLAND.\" )"
   ]
  },
  {
   "cell_type": "code",
   "execution_count": null,
   "metadata": {},
   "outputs": [
    {
     "name": "stdout",
     "output_type": "stream",
     "text": [
      "\n",
      "\tYou have 5 chances to guess the hidden number (from 1 to 30): 30\n",
      "\tYour guess is greater than the hidden number !\n"
     ]
    }
   ],
   "source": [
    "import random as rd\n",
    "i = 5\n",
    "while i > 0:\n",
    "    correct_num = rd.randint(1,30)\n",
    "    user_num = int(input(f\"\\n\\tYou have {i} chances to guess the hidden number (from 1 to 30): \"))\n",
    "    \n",
    "    if user_num == correct_num:\n",
    "        print(\"\\t***Congrats ! Correct Guess, You Won*** :)\")\n",
    "        break\n",
    "    elif user_num > correct_num:\n",
    "        print(\"\\tYour guess is greater than the hidden number !\")\n",
    "        i -= 1\n",
    "    elif user_num < correct_num:\n",
    "        print(\"\\tYour guess is less than the hidden number !\")\n",
    "        i-=1\n",
    "    elif user_num < 1 or user_num > 30:\n",
    "        print(\"\\tPlease enter number in range 1 to 30 !\")\n",
    "        \n",
    "if i == 0:\n",
    "   print(f\"\\n\\tYou Lost ! :(  Hidden Number was {correct_num}\")"
   ]
  },
  {
   "cell_type": "code",
   "execution_count": null,
   "metadata": {},
   "outputs": [],
   "source": []
  }
 ],
 "metadata": {
  "kernelspec": {
   "display_name": "Python 3",
   "language": "python",
   "name": "python3"
  },
  "language_info": {
   "codemirror_mode": {
    "name": "ipython",
    "version": 3
   },
   "file_extension": ".py",
   "mimetype": "text/x-python",
   "name": "python",
   "nbconvert_exporter": "python",
   "pygments_lexer": "ipython3",
   "version": "3.7.4"
  }
 },
 "nbformat": 4,
 "nbformat_minor": 2
}
